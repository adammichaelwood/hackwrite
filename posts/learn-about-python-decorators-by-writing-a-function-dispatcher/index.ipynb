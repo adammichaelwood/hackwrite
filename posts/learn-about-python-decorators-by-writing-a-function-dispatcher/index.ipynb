{
 "cells": [
  {
   "cell_type": "markdown",
   "metadata": {},
   "source": [
    "# Learn About Decorators By Writing a Function Dispatcher"
   ]
  },
  {
   "cell_type": "markdown",
   "metadata": {},
   "source": [
    "Python decorators transform how functions work.\n",
    "\n",
    "```python\n",
    "@this_is_a_decorator\n",
    "def some_function():\n",
    "    return something\n",
    "\n",
    "\"\"\"\n",
    ">>> some_function()\n",
    "Something else!\n",
    "\"\"\"\n",
    "```\n",
    "\n",
    "Between the core language and the standard library,\n",
    "there are several decorators that come with Python.\n",
    "Also, many popular frameworks provide decorators\n",
    "to help eliminate boilerplate \n",
    "and make building applications faster and easier.\n",
    "\n",
    "Decorators are easier to use than to understand.\n",
    "\n",
    "This article will try to help you understand \n",
    "how decorators work and\n",
    "how to write them.\n",
    "To do that,\n",
    "we'll write a basic implementation of a dispatch function,\n",
    "which will conditionally call function implementations\n",
    "based on the value of an argument."
   ]
  },
  {
   "cell_type": "markdown",
   "metadata": {},
   "source": [
    "## A Problem in Need of Decorators\n",
    "\n",
    "How often have you written code that looks something like this?"
   ]
  },
  {
   "cell_type": "markdown",
   "metadata": {},
   "source": [
    "```python\n",
    "def if_chain_function(status):\n",
    "    if status == \"red\":\n",
    "        # large block of code\n",
    "    elif status == \"orange\":\n",
    "        # large block of code\n",
    "    elif status == \"yellow\":\n",
    "        # large block of code\n",
    "    else:\n",
    "        # some default large block of code\n",
    "```"
   ]
  },
  {
   "cell_type": "markdown",
   "metadata": {},
   "source": [
    "Most of us have written some version of that more than we'd like to admit.\n",
    "Some languages even have a [special mechanism (usually called `switch`) for doing it](https://developer.mozilla.org/en-US/docs/Web/JavaScript/Reference/Statements/switch). \n",
    "\n",
    "But it has problems.\n",
    "\n",
    " - As the number of cases increases, it becomes hard to read.\n",
    " - The code blocks in each case will likely evolve independently, \n",
    "   some getting refactored into clean functions, \n",
    "   some not, \n",
    "   and some being a mix of inline code and custom function calls.\n",
    " - New cases have to be added explicitly in this function. \n",
    "   This precludes pluggable cases from external modules, \n",
    "   and also just adds mental load.\n",
    " - If the cases are anything other than simple comparisons,\n",
    "   the whole thing quickly becomes difficult to reason about.\n",
    "   \n",
    "To solve these problems, \n",
    "making the code more readable and easier to extend, \n",
    "we're going to look at function dispatching."
   ]
  },
  {
   "cell_type": "markdown",
   "metadata": {},
   "source": [
    "## A little bit about function dispatching\n",
    "\n",
    "Conventionally, function dispatching is related to the *type* of the argument.\n",
    "That is, function dispatching is a mechanism for doing different things,\n",
    "depending on whether you pass in an `int` or a `str` or a `list` or whatever.\n",
    "\n",
    "Python is [dynamically typed](),\n",
    "so you don't have to specify that a function only accepts some specific type as an argument.\n",
    "But if those different types have to be handled differently,\n",
    "you might end up with code that looks eerily similar to the code above."
   ]
  },
  {
   "cell_type": "markdown",
   "metadata": {},
   "source": [
    "```python\n",
    "def depends_on_type(x):\n",
    "    if type(x) == str:\n",
    "        # large block of code\n",
    "    else if type(x) == int:\n",
    "        # large block of code\n",
    "    else if type(x) == list:\n",
    "        # large block of code\n",
    "    else:\n",
    "        # some default large block of code\n",
    "```"
   ]
  },
  {
   "cell_type": "markdown",
   "metadata": {},
   "source": [
    "This has all the same problems mentioned above.\n",
    "But, unlike the first example, Python has a solution to this already:  \n",
    "[`@functools.singledispatch`](https://docs.python.org/3/library/functools.html#functools.singledispatch).\n",
    "\n",
    "This is a [decorator]() \n",
    "which transforms a function into a single-dispatch generic function. \n",
    "You then register other functions against it, \n",
    "specifying a type of object (that is, a class name).\n",
    "When the function is called, it:\n",
    "\n",
    " 1. looks up the type of the first argument\n",
    " 2. checks its registry for that type\n",
    " 3. executes the function registered for that type\n",
    " 4. if the type wasn't registered, the original function is executed\n",
    " \n",
    "If this sounds complicated, don't worry. Using `singledispatch` is simpler than explaining it.\n"
   ]
  },
  {
   "cell_type": "code",
   "execution_count": 1,
   "metadata": {},
   "outputs": [],
   "source": [
    "import functools\n",
    "\n",
    "@functools.singledispatch\n",
    "def dispatch_on_type(x):\n",
    "    # some default logic\n",
    "    print(\"I am the default implementation.\")\n",
    "    \n",
    "@dispatch_on_type.register(str)\n",
    "def _(x):\n",
    "    # some stringy logic\n",
    "    print(f\"'{x}' is a string.\")\n",
    "    \n",
    "@dispatch_on_type.register(int)\n",
    "def _(x):\n",
    "    # some integer logic\n",
    "    print(f\"{x} is an integer.\")\n",
    "    \n",
    "@dispatch_on_type.register(list)\n",
    "def _(x):\n",
    "    # some list logic\n",
    "    print(f\"{x} is a list.\")"
   ]
  },
  {
   "cell_type": "code",
   "execution_count": 2,
   "metadata": {},
   "outputs": [
    {
     "name": "stdout",
     "output_type": "stream",
     "text": [
      "I am the default implementation.\n"
     ]
    }
   ],
   "source": [
    "dispatch_on_type(set())"
   ]
  },
  {
   "cell_type": "code",
   "execution_count": 3,
   "metadata": {},
   "outputs": [
    {
     "name": "stdout",
     "output_type": "stream",
     "text": [
      "'STRING' is a string.\n"
     ]
    }
   ],
   "source": [
    "dispatch_on_type(\"STRING\")"
   ]
  },
  {
   "cell_type": "code",
   "execution_count": 4,
   "metadata": {},
   "outputs": [
    {
     "name": "stdout",
     "output_type": "stream",
     "text": [
      "1337 is an integer.\n"
     ]
    }
   ],
   "source": [
    "dispatch_on_type(1337)"
   ]
  },
  {
   "cell_type": "code",
   "execution_count": 5,
   "metadata": {},
   "outputs": [
    {
     "name": "stdout",
     "output_type": "stream",
     "text": [
      "[1, 3, 3, 7] is a list.\n"
     ]
    }
   ],
   "source": [
    "dispatch_on_type([1,3,3,7])"
   ]
  },
  {
   "cell_type": "markdown",
   "metadata": {},
   "source": [
    "You can do all sorts of cool things with `functools.singledispatch`,\n",
    "but it doesn't solve the problem in the code at the top of the page.\n",
    "For that, \n",
    "we're going to create a decorator similar to `singledispatch`\n",
    "that dispatches based on the *value* of the first argument\n",
    "instead of the type.\n",
    "\n",
    "Along the way we'll learn more about how decorators work."
   ]
  },
  {
   "cell_type": "markdown",
   "metadata": {},
   "source": [
    "## Writing Decorators\n",
    "\n",
    "The `@` decorator syntax is [syntactic sugar](https://en.wikipedia.org/wiki/Syntactic_sugar)\n",
    "that covers [passing a function to another function and then returning a function](https://twitter.com/adammichaelwood/status/1035338321877037056).\n",
    "\n",
    "What?\n",
    "\n",
    "Again, this is easier to show than to explain."
   ]
  },
  {
   "cell_type": "code",
   "execution_count": 6,
   "metadata": {},
   "outputs": [],
   "source": [
    "def a_decorator(func):\n",
    "    return func\n",
    "\n",
    "\n",
    "# The sweet decorator way...\n",
    "@a_decorator\n",
    "def some_function():\n",
    "    print(\"Some function.\")\n",
    "\n",
    "# Which has exactly the same effect as...\n",
    "def some_other_function():\n",
    "    print(\"Some other function.\")\n",
    "    \n",
    "some_other_function = a_decorator(some_other_function)"
   ]
  },
  {
   "cell_type": "markdown",
   "metadata": {},
   "source": [
    "A decorator is just a function that returns a function.\n",
    "\n",
    "When used with the `@` syntax,\n",
    "\n",
    " 1. the decorator function is called, with the decorated function passed as an argument;\n",
    " 2. the return value of the decorator function is assigned to the same name as the decorated function.\n",
    " 3. When you call the decorated function, you are *actually* calling the function that was returned by the decorator\n",
    "    (which may or may not call the original function's code).\n",
    "    \n",
    "But the above example returned the original function without altering it.\n",
    "The point of decorators is to return something other than the original function,\n",
    "in order to transform the function in some way.\n",
    "\n",
    "To do this, \n",
    "we usually define another function inside the decorator,\n",
    "and then return that."
   ]
  },
  {
   "cell_type": "code",
   "execution_count": 7,
   "metadata": {},
   "outputs": [],
   "source": [
    "def never_two(func):\n",
    "    def wrapper(*args, **kw):\n",
    "        x = func(*args, **kw)\n",
    "        return x if x != 2 else 3\n",
    "    return wrapper\n",
    "    \n",
    "@never_two\n",
    "def add(x,y):\n",
    "    return x + y\n",
    "    "
   ]
  },
  {
   "cell_type": "code",
   "execution_count": 8,
   "metadata": {},
   "outputs": [
    {
     "data": {
      "text/plain": [
       "3"
      ]
     },
     "execution_count": 8,
     "metadata": {},
     "output_type": "execute_result"
    }
   ],
   "source": [
    "add(1,1)"
   ]
  },
  {
   "cell_type": "markdown",
   "metadata": {},
   "source": [
    "The `wrapper` function is defined inside `never_two`, \n",
    "but it is not executed when `never_two` is executed\n",
    "(which happens at the line where `@never_two` appears).\n",
    "Notice — it isn't called anywhere.\n",
    "(That is, you don't see anything like `wrapper(1,1)`.)\n",
    "\n",
    "Instead, the `wrapper` function is returned by `@never_two`,\n",
    "and assigned to the name `add`.\n",
    "Meanwhile, the code in the original `add` definition\n",
    "is *inside* `wrapper`, where it is called `func`.\n",
    "\n",
    "When `add(1,1)` is called:\n",
    "\n",
    " 1. The code defined in `wrapper` is executed, because it was assigned to `add`.\n",
    " 2. The arguments passed into `add` (the two `1`s) are passed on to `func` \n",
    "    when it is called at `x = func(*args, **kw)`.\n",
    " 3. The code originally defined at `add` (`return x + y`) is executed,\n",
    "    because that code was assigned to `func`.\n",
    " 4. The output of `func` (the original `add`) is compared to `2`, \n",
    "    and altered accordingly.\n",
    " 5. The code defined under `wrapper` (currently being called `add`) returns `3`.\n"
   ]
  },
  {
   "cell_type": "markdown",
   "metadata": {},
   "source": [
    "Two points might be helpful here:\n",
    "\n",
    " - Think of a function as just everything from the parenthesis onward, excluding the name.\n",
    "   Once you think of a function as a block of code that accepts arguments,\n",
    "   which can be assigned to any name,\n",
    "   things get a little easier to understand.\n",
    "   \n",
    " - The `(*args, **kw)` is a way to \n",
    "   collect, pass on, and then unpack \n",
    "   all the positional and keyword arguments.\n",
    "   A full treatment is beyond the scope of this article.\n",
    "   For now, just notice that whatever is passed into `wrapper`\n",
    "   is simply passed on to `func`."
   ]
  },
  {
   "cell_type": "markdown",
   "metadata": {},
   "source": [
    "## Writing a Dispatch Decorator\n",
    "\n",
    "Let's look at the syntax of `functools.singledispatch` again,\n",
    "and think about what we need to do to emulate it for values instead of types."
   ]
  },
  {
   "cell_type": "code",
   "execution_count": 9,
   "metadata": {},
   "outputs": [],
   "source": [
    "@functools.singledispatch\n",
    "def dispatch_on_type(x):\n",
    "    print(\"I am the default implementation.\")\n",
    "    \n",
    "@dispatch_on_type.register(str)\n",
    "def _(x):\n",
    "    print(f\"'{x}' is a string.\")"
   ]
  },
  {
   "cell_type": "markdown",
   "metadata": {},
   "source": [
    "### Decorators that Return Decorators\n",
    "\n",
    "Notice that we actually have **two** decorators:\n",
    "\n",
    " - `functools.singledispatch`\n",
    " - `dispatch_on_type.register`\n",
    " \n",
    "This means inside `singledispatch`, \n",
    "the decorated function (in this case, `dispatch_on_type`)\n",
    "is being assigned an additional attribute, \n",
    "`.register`, which is also a decorator function.\n",
    "\n",
    "That might look something like:"
   ]
  },
  {
   "cell_type": "code",
   "execution_count": 10,
   "metadata": {},
   "outputs": [],
   "source": [
    "def outer_decorator(func):\n",
    "    \n",
    "    def inner_decorator(func):\n",
    "        \n",
    "        def inner_wrapper():\n",
    "        \n",
    "            print(\"Inner wrapper.\")\n",
    "        \n",
    "        return inner_wrapper\n",
    "    \n",
    "    def wrapper():\n",
    "        print(\"The wrapper function.\")\n",
    "    \n",
    "    wrapper.decorator = inner_decorator\n",
    "    \n",
    "    return wrapper\n",
    "\n",
    "@outer_decorator\n",
    "def a_function():\n",
    "    print(\"Original a_function.\") # This will never execute.\n",
    "\n",
    "@a_function.decorator\n",
    "def another_function():\n",
    "    print(\"Original another_function.\") # This will never execute."
   ]
  },
  {
   "cell_type": "code",
   "execution_count": 11,
   "metadata": {
    "scrolled": true
   },
   "outputs": [
    {
     "name": "stdout",
     "output_type": "stream",
     "text": [
      "The wrapper function.\n"
     ]
    }
   ],
   "source": [
    "a_function()"
   ]
  },
  {
   "cell_type": "code",
   "execution_count": 12,
   "metadata": {},
   "outputs": [
    {
     "name": "stdout",
     "output_type": "stream",
     "text": [
      "Inner wrapper.\n"
     ]
    }
   ],
   "source": [
    "another_function()"
   ]
  },
  {
   "cell_type": "markdown",
   "metadata": {},
   "source": [
    "Unpacking that a bit:\n",
    "\n",
    " - `outer_decorator` defines two functions,`inner_decorator` and `wrapper`\n",
    " - `wrapper` is returned by `outer_decorator`, so it will be executed when `a_function` is called\n",
    " - `inner_decorator` is assigned as an attribute of `wrapper`, so `a_function.inner_decorator` becomes a usable decorator\n",
    " - `inner_decorator` defines `inner_wrapper` and returns it, so it will be executed when `another_function` is called"
   ]
  },
  {
   "cell_type": "markdown",
   "metadata": {},
   "source": [
    "### Decorators with Arguments\n",
    "\n"
   ]
  },
  {
   "cell_type": "markdown",
   "metadata": {},
   "source": [
    "You may have noticed that up until now,\n",
    "the decorators created in this article did not included parentheses or arguments\n",
    "when attached to functions.\n",
    "This is because the decorated function is actually passed\n",
    "as the only argument to the function call.\n",
    "\n",
    "But when registering functions against types,\n",
    "`singledispatch` included an argument."
   ]
  },
  {
   "cell_type": "code",
   "execution_count": 13,
   "metadata": {},
   "outputs": [],
   "source": [
    "@functools.singledispatch\n",
    "def dispatched():\n",
    "    return\n",
    "\n",
    "@dispatched.register(str)\n",
    "def _():\n",
    "    return"
   ]
  },
  {
   "cell_type": "markdown",
   "metadata": {},
   "source": [
    "Incredibly, the way to achieve this is to nest *yet another function* into the decorator.\n",
    "\n",
    "That is because, really, `register` isn't a decorator. \n",
    "Instead, **`register` is a function which returns a decorator when passed an argument.**\n",
    "\n",
    "Let's take our previous example and expand it to include this idea.\n"
   ]
  },
  {
   "cell_type": "code",
   "execution_count": 14,
   "metadata": {},
   "outputs": [],
   "source": [
    "def outer_decorator(func):\n",
    "    \n",
    "    def faux_decorator_w_arg(arg):\n",
    "        \n",
    "        def actual_decorator(func):\n",
    "            \n",
    "            def inner_wrapper():\n",
    "        \n",
    "                print(f\"Inner wrapper. arg was: {arg}\")\n",
    "        \n",
    "            return inner_wrapper\n",
    "        \n",
    "        return actual_decorator\n",
    "    \n",
    "    def wrapper():\n",
    "        print(\"The wrapper function.\")\n",
    "    \n",
    "    wrapper.decorator = faux_decorator_w_arg\n",
    "    \n",
    "    return wrapper\n",
    "\n",
    "@outer_decorator\n",
    "def a_function():\n",
    "    print(\"Original a_function.\") # This will never execute.\n",
    "\n",
    "@a_function.decorator(\"decorator_argument\")\n",
    "def another_function():\n",
    "    print(\"Original another_function.\") # This will never execute."
   ]
  },
  {
   "cell_type": "code",
   "execution_count": 15,
   "metadata": {},
   "outputs": [
    {
     "name": "stdout",
     "output_type": "stream",
     "text": [
      "The wrapper function.\n"
     ]
    }
   ],
   "source": [
    "a_function()"
   ]
  },
  {
   "cell_type": "code",
   "execution_count": 16,
   "metadata": {},
   "outputs": [
    {
     "name": "stdout",
     "output_type": "stream",
     "text": [
      "Inner wrapper. arg was: decorator_argument\n"
     ]
    }
   ],
   "source": [
    "another_function()"
   ]
  },
  {
   "cell_type": "markdown",
   "metadata": {},
   "source": [
    "### Putting it Together\n",
    "\n",
    "So now we know how to create decorators that return decorators and accepts arguments. \n",
    "With this,\n",
    "plus a dictionary that maps registered values to functions,\n",
    "we can create a dispatch on value decorator."
   ]
  },
  {
   "cell_type": "code",
   "execution_count": 17,
   "metadata": {},
   "outputs": [],
   "source": [
    "def dispatch_on_value(func):\n",
    "    \"\"\"\n",
    "    Value-dispatch function decorator.\n",
    "    \n",
    "    Transforms a function into a value-dispatch function,\n",
    "    which can have different behaviors based on the value of the first argument.\n",
    "    \"\"\"\n",
    "    \n",
    "    registry = {}\n",
    "\n",
    "    def dispatch(value):\n",
    "\n",
    "        try:\n",
    "            return registry[value]\n",
    "        except KeyError:\n",
    "            return func\n",
    "\n",
    "    def register(value, func=None):\n",
    "       \n",
    "        if func is None:\n",
    "            return lambda f: register(value, f)\n",
    "        \n",
    "        registry[value] = func\n",
    "        \n",
    "        return func\n",
    "\n",
    "    def wrapper(*args, **kw):\n",
    "        return dispatch(args[0])(*args, **kw)\n",
    "\n",
    "    wrapper.register = register\n",
    "    wrapper.dispatch = dispatch\n",
    "    wrapper.registry = registry\n",
    "\n",
    "    return wrapper"
   ]
  },
  {
   "cell_type": "code",
   "execution_count": 18,
   "metadata": {},
   "outputs": [],
   "source": [
    "@dispatch_on_value\n",
    "def react_to_status(status):\n",
    "    print(\"Everything's fine.\")\n",
    "    \n",
    "\n",
    "@react_to_status.register(\"red\")\n",
    "def _(status):\n",
    "    # Red status is probably bad.\n",
    "    # So we need lots of complicated code here to deal with it.\n",
    "    print(\"Status is red.\")"
   ]
  },
  {
   "cell_type": "code",
   "execution_count": 19,
   "metadata": {},
   "outputs": [
    {
     "name": "stdout",
     "output_type": "stream",
     "text": [
      "Status is red.\n"
     ]
    }
   ],
   "source": [
    "react_to_status(\"red\")"
   ]
  },
  {
   "cell_type": "markdown",
   "metadata": {},
   "source": [
    "There are a few things here which might not be obvious.\n",
    "So let's take a closer look."
   ]
  },
  {
   "cell_type": "markdown",
   "metadata": {},
   "source": [
    "```python\n",
    "    def dispatch(value):\n",
    "\n",
    "        try:\n",
    "            return registry[value]\n",
    "        except KeyError:\n",
    "            return func\n",
    "```\n",
    "\n",
    "This is called by `wrapper`, and is the mechanism that determines which registered function is executed.\n",
    "It looks in the registry and returns the appropriate function (without executing it).\n",
    "If the value isn't registered,\n",
    "this will raise a KeyError.\n",
    "The `except` block catches that error\n",
    "and returns the original function."
   ]
  },
  {
   "cell_type": "markdown",
   "metadata": {},
   "source": [
    "```python\n",
    "    def register(value, func=None):\n",
    "       \n",
    "        if func is None:\n",
    "            return lambda f: register(value, f)\n",
    "        \n",
    "        registry[value] = func\n",
    "        \n",
    "        return func\n",
    "```\n",
    "\n",
    "This acts as both the `faux_decorator` and the `actual_decorator`.\n",
    "\n",
    "It can be called with one or two positional arguments;\n",
    "if the second one is omitted, it is set to `None`.\n",
    "\n",
    "At `@react_to_status.register(\"red\")`, it is being called with only the `value` argument.\n",
    "This causes the `lambda expression` to be returned, with `value` already interpreted.\n",
    "(That is, the return value is `lambda f: register(\"red\", f)`).\n",
    "\n",
    "This is the same as:\n",
    "\n",
    "```python\n",
    "    if func is None:\n",
    "        def actual_decorator(func):\n",
    "            register(value, func)\n",
    "        return actual decorator\n",
    "```\n",
    "\n",
    "But the lambda expression is a bit easier to read, once you know what it is doing.\n",
    "\n",
    "\n",
    "This returned lambda function is then the actual decorator,\n",
    "and is executed with the wrapped function as its one argument.\n",
    "The function argument is them passed to `register`,\n",
    "along with the `value` that got set when the lambda was created.\n",
    "\n",
    "Now `register` runs again,\n",
    "but this time it has both arguments.\n",
    "The `if func is None` is skipped,\n",
    "and the function is added to the registry with `value` as the key.\n",
    "The function is returned back to the point when the `register` decorator was called,\n",
    "but it gets assigned to the name `_`, \n",
    "because we never need to call it directly."
   ]
  },
  {
   "cell_type": "markdown",
   "metadata": {},
   "source": [
    "```python\n",
    "    def wrapper(*args, **kw):\n",
    "        return dispatch(args[0])(*args, **kw)\n",
    "```\n",
    "\n",
    "This is the function that actually gets executed when `react_to_status` is called.\n",
    "It calls `dispatch` with the first argument (`arg[0]`),\n",
    "which return the appropriate function.\n",
    "The returned function is immediatly called, with `*args, **kw` passed in.\n",
    "Any output from the function is returned to the caller of `react_to_status`,\n",
    "which completes the entire dispatch process."
   ]
  },
  {
   "cell_type": "markdown",
   "metadata": {},
   "source": [
    "## Going Further\n",
    "\n",
    "This tutorial looked at value dispatch in order to dig into how decorators work. \n",
    "It does not provide a complete implementation for a practical value dispatch decorator.\n",
    "\n",
    "For example,\n",
    "in practice you'd probably want value dispatch to include:\n",
    "\n",
    " - values within a range\n",
    " - values in a collection\n",
    " - values matching a regular expression\n",
    " - values meeting criteria defined in a fitness or sorting function\n",
    " \n",
    "And we didn't even talk about additional `functools` features \n",
    "that [help sort out introspection](https://docs.python.org/3/library/functools.html#functools.wraps)\n",
    "or [dealing with the many problems created by decorators](https://hynek.me/articles/decorators/).\n",
    "\n",
    "For a more complete, production ready implementation of this idea, \n",
    "see [Dispatch on Value by minimind](https://github.com/minimind/dispatch-on-value-for-python)."
   ]
  },
  {
   "cell_type": "markdown",
   "metadata": {},
   "source": [
    "\n",
    "-------\n",
    "\n",
    "## Credits\n",
    "\n",
    "The final form of `dispatch_on_value` was based heavily on \n",
    "the [Ouroboros](https://github.com/pybee/ouroboros) implementation of [`functools.singledispatch`](https://github.com/pybee/ouroboros/blob/master/ouroboros/functools.py)."
   ]
  }
 ],
 "metadata": {
  "kernelspec": {
   "display_name": "Python 3",
   "language": "python",
   "name": "python3"
  },
  "language_info": {
   "codemirror_mode": {
    "name": "ipython",
    "version": 3
   },
   "file_extension": ".py",
   "mimetype": "text/x-python",
   "name": "python",
   "nbconvert_exporter": "python",
   "pygments_lexer": "ipython3",
   "version": "3.7.0"
  },
  "nikola": {
   "category": "",
   "date": "2018-09-07 18:39:32 UTC-07:00",
   "description": "",
   "link": "",
   "slug": "learn-about-python-decorators-by-writing-a-function-dispatcher",
   "tags": "",
   "title": "Learn About Python Decorators by Writing a Function Dispatcher",
   "type": "text"
  }
 },
 "nbformat": 4,
 "nbformat_minor": 2
}
